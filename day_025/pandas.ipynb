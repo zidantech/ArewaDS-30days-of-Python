{
 "cells": [
  {
   "cell_type": "markdown",
   "metadata": {},
   "source": [
    "# Day 25 - Pandas"
   ]
  },
  {
   "cell_type": "code",
   "execution_count": null,
   "metadata": {},
   "outputs": [],
   "source": [
    "import pandas as pd\n",
    "\n",
    "# Read the hacker_news.csv file\n",
    "file_path = \"data/hacker_news.csv\"\n",
    "df = pd.read_csv(file_path)\n",
    "\n",
    "# Get the first five rows\n",
    "first_five_rows = df.head()\n",
    "\n",
    "# Get the last five rows\n",
    "last_five_rows = df.tail()\n",
    "\n",
    "# Get the title column as a pandas series\n",
    "title_series = df['title']\n",
    "\n",
    "# Count the number of rows and columns\n",
    "num_rows, num_columns = df.shape\n",
    "\n",
    "# Filter the titles which contain 'python'\n",
    "python_titles = df[df['title'].str.contains('python', case=False)]\n",
    "\n",
    "# Filter the titles which contain 'JavaScript'\n",
    "javascript_titles = df[df['title'].str.contains('JavaScript', case=False)]\n",
    "\n",
    "# Explore the data and make sense of it\n",
    "data_summary = df.describe(include='all')\n",
    "\n",
    "# Print results\n",
    "print(\"First five rows:\")\n",
    "print(first_five_rows)\n",
    "print(\"\\nLast five rows:\")\n",
    "print(last_five_rows)\n",
    "print(\"\\nTitle column as pandas series:\")\n",
    "print(title_series)\n",
    "print(\"\\nNumber of rows and columns:\")\n",
    "print(f\"Rows: {num_rows}, Columns: {num_columns}\")\n",
    "print(\"\\nTitles containing 'python':\")\n",
    "print(python_titles)\n",
    "print(\"\\nTitles containing 'JavaScript':\")\n",
    "print(javascript_titles)\n",
    "print(\"\\nData Summary:\")\n",
    "print(data_summary)\n"
   ]
  }
 ],
 "metadata": {
  "kernelspec": {
   "display_name": "arewads3.11",
   "language": "python",
   "name": "python3"
  },
  "language_info": {
   "name": "python",
   "version": "3.11.5"
  }
 },
 "nbformat": 4,
 "nbformat_minor": 2
}
