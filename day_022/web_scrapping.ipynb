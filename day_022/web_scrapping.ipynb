{
 "cells": [
  {
   "cell_type": "markdown",
   "metadata": {},
   "source": [
    "# Day 22 - Web Scrapping"
   ]
  },
  {
   "cell_type": "code",
   "execution_count": 6,
   "metadata": {},
   "outputs": [
    {
     "name": "stdout",
     "output_type": "stream",
     "text": [
      "Data has been successfully scraped and stored as \"scraped_data.json\".\n"
     ]
    }
   ],
   "source": [
    "# Scrape the following website and store the data as json file\n",
    "# (url = 'http://www.bu.edu/president/boston-university-facts-stats/').\n",
    "\n",
    "import requests\n",
    "from bs4 import BeautifulSoup\n",
    "import json\n",
    "\n",
    "# Specify the URL\n",
    "url = 'http://www.bu.edu/president/boston-university-facts-stats/'\n",
    "\n",
    "# Send a GET request to the URL\n",
    "response = requests.get(url)\n",
    "\n",
    "# Check if the request was successful (status code 200)\n",
    "if response.status_code == 200:\n",
    "    # Parse the HTML content of the page\n",
    "    soup = BeautifulSoup(response.content, 'html.parser')\n",
    "\n",
    "    # Find the data you want to scrape using BeautifulSoup methods\n",
    "    # For example, let's extract all the paragraphs in this case\n",
    "    paragraphs = soup.find_all('p')\n",
    "\n",
    "    # Create a list to store the extracted data\n",
    "    data_list = []\n",
    "\n",
    "    # Iterate through the paragraphs and extract text content\n",
    "    for paragraph in paragraphs:\n",
    "        data_list.append(paragraph.get_text())\n",
    "\n",
    "    # Create a dictionary to store the data\n",
    "    data_dict = {'paragraphs': data_list}\n",
    "\n",
    "    # Convert the dictionary to JSON format\n",
    "    json_data = json.dumps(data_dict, indent=4)\n",
    "\n",
    "    # Save the JSON data to a file\n",
    "    with open('scraped_data.json', 'w') as json_file:\n",
    "        json_file.write(json_data)\n",
    "\n",
    "    print('Data has been successfully scraped and stored as \"scraped_data.json\".')\n",
    "\n",
    "else:\n",
    "    print(f'Failed to retrieve data. Status code: {response.status_code}')\n"
   ]
  },
  {
   "cell_type": "code",
   "execution_count": 2,
   "metadata": {},
   "outputs": [
    {
     "name": "stdout",
     "output_type": "stream",
     "text": [
      "Failed to retrieve data. Status code: 404\n"
     ]
    }
   ],
   "source": [
    "# Extract the table in this url (https://archive.ics.uci.edu/ml/datasets.php) and change it to a json file\n",
    "\n",
    "import requests\n",
    "from bs4 import BeautifulSoup\n",
    "import pandas as pd\n",
    "import json\n",
    "\n",
    "# Specify the URL\n",
    "url = 'https://archive.ics.uci.edu/ml/datasets.php'\n",
    "\n",
    "# Send a GET request to the URL\n",
    "response = requests.get(url)\n",
    "\n",
    "# Check if the request was successful (status code 200)\n",
    "if response.status_code == 200:\n",
    "    # Parse the HTML content of the page\n",
    "    soup = BeautifulSoup(response.content, 'html.parser')\n",
    "\n",
    "    # Find the table on the page using BeautifulSoup methods\n",
    "    table = soup.find('table')\n",
    "\n",
    "    # Use pandas to read the HTML table into a DataFrame\n",
    "    df = pd.read_html(str(table))[0]\n",
    "\n",
    "    # Convert the DataFrame to a JSON object\n",
    "    json_data = df.to_json(orient='records', indent=4)\n",
    "\n",
    "    # Save the JSON data to a file\n",
    "    with open('table_data.json', 'w') as json_file:\n",
    "        json_file.write(json_data)\n",
    "\n",
    "    print('Table data has been successfully extracted and stored as \"table_data.json\".')\n",
    "\n",
    "else:\n",
    "    print(f'Failed to retrieve data. Status code: {response.status_code}')\n"
   ]
  },
  {
   "cell_type": "code",
   "execution_count": 7,
   "metadata": {},
   "outputs": [
    {
     "name": "stdout",
     "output_type": "stream",
     "text": [
      "Presidents data has been successfully scraped and stored as \"presidents_data.json\".\n"
     ]
    }
   ],
   "source": [
    "# Scrape the presidents table and store the data as json(https://en.wikipedia.org/wiki/List_of_presidents_of_the_United_States). The table is not very structured and the scrapping may take very long time.\n",
    "import requests\n",
    "from bs4 import BeautifulSoup\n",
    "import json\n",
    "\n",
    "# Specify the URL\n",
    "url = 'https://en.wikipedia.org/wiki/List_of_presidents_of_the_United_States'\n",
    "\n",
    "# Send a GET request to the URL\n",
    "response = requests.get(url)\n",
    "\n",
    "# Check if the request was successful (status code 200)\n",
    "if response.status_code == 200:\n",
    "    # Parse the HTML content of the page\n",
    "    soup = BeautifulSoup(response.content, 'html.parser')\n",
    "\n",
    "    # Find the table with the class 'wikitable' on the page\n",
    "    table = soup.find('table', {'class': 'wikitable'})\n",
    "\n",
    "    # Extract the table rows\n",
    "    rows = table.find_all('tr')\n",
    "\n",
    "    # Create a list to store the data\n",
    "    data_list = []\n",
    "\n",
    "    # Iterate through the rows and extract the data\n",
    "    for row in rows[1:]:  # Skip the header row\n",
    "        columns = row.find_all(['th', 'td'])\n",
    "        president_data = [column.get_text(strip=True) for column in columns]\n",
    "        data_list.append(president_data)\n",
    "\n",
    "    # Create a list of dictionaries representing each president's data\n",
    "    presidents_data = []\n",
    "    for president_data in data_list:\n",
    "        president_dict = {\n",
    "            \"Number\": president_data[0],\n",
    "            \"President\": president_data[1],\n",
    "            \"Took office\": president_data[2],\n",
    "            \"Left office\": president_data[3],\n",
    "            \"Party\": president_data[4],\n",
    "            \"Home state\": president_data[5]\n",
    "        }\n",
    "        presidents_data.append(president_dict)\n",
    "\n",
    "    # Convert the list of dictionaries to JSON format\n",
    "    json_data = json.dumps(presidents_data, indent=4)\n",
    "\n",
    "    # Save the JSON data to a file\n",
    "    with open('presidents_data.json', 'w') as json_file:\n",
    "        json_file.write(json_data)\n",
    "\n",
    "    print('Presidents data has been successfully scraped and stored as \"presidents_data.json\".')\n",
    "\n",
    "else:\n",
    "    print(f'Failed to retrieve data. Status code: {response.status_code}')\n"
   ]
  }
 ],
 "metadata": {
  "kernelspec": {
   "display_name": "arewads3.11",
   "language": "python",
   "name": "python3"
  },
  "language_info": {
   "codemirror_mode": {
    "name": "ipython",
    "version": 3
   },
   "file_extension": ".py",
   "mimetype": "text/x-python",
   "name": "python",
   "nbconvert_exporter": "python",
   "pygments_lexer": "ipython3",
   "version": "3.11.5"
  }
 },
 "nbformat": 4,
 "nbformat_minor": 2
}
