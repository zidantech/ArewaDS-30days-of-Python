{
 "cells": [
  {
   "cell_type": "code",
   "execution_count": null,
   "metadata": {},
   "outputs": [],
   "source": [
    "# Day_17: Exception_handling"
   ]
  },
  {
   "cell_type": "code",
   "execution_count": 1,
   "metadata": {},
   "outputs": [
    {
     "name": "stdout",
     "output_type": "stream",
     "text": [
      "The Nordic countries include: ['Finland', 'Sweden', 'Norway', 'Denmark', 'Iceland'] \n",
      "ES: Estonia, RU: Russia\n"
     ]
    }
   ],
   "source": [
    "# names = ['Finland', 'Sweden', 'Norway','Denmark','Iceland', 'Estonia','Russia']. Unpack the first five countries and store them in a variable nordic_countries, store Estonia and Russia in es, and ru respectively.\n",
    "names = ['Finland', 'Sweden', 'Norway','Denmark','Iceland', 'Estonia','Russia']\n",
    "try:\n",
    "    *nordic_countries,es,ru = names\n",
    "    print(f'The Nordic countries include: {nordic_countries} ')\n",
    "    print(f'ES: {es}, RU: {ru}')\n",
    "except:\n",
    "    print('unparking unsuccessful')"
   ]
  }
 ],
 "metadata": {
  "kernelspec": {
   "display_name": "arewads3.11",
   "language": "python",
   "name": "python3"
  },
  "language_info": {
   "codemirror_mode": {
    "name": "ipython",
    "version": 3
   },
   "file_extension": ".py",
   "mimetype": "text/x-python",
   "name": "python",
   "nbconvert_exporter": "python",
   "pygments_lexer": "ipython3",
   "version": "3.11.5"
  }
 },
 "nbformat": 4,
 "nbformat_minor": 2
}
