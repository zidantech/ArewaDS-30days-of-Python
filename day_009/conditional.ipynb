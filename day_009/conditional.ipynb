{
 "cells": [
  {
   "cell_type": "code",
   "execution_count": 1,
   "metadata": {},
   "outputs": [
    {
     "name": "stdout",
     "output_type": "stream",
     "text": [
      "You are old enough to drive\n"
     ]
    }
   ],
   "source": [
    "# Exercises: Level 1\n",
    "\n",
    "# Get user input using input(“Enter your age: ”). If user is 18 or older, give feedback: You are old enough to drive. If below 18 give feedback to wait for the missing amount of years. Output:\n",
    "user = input('Enter your age: ')\n",
    "try:\n",
    "    user = int(user)\n",
    "    if user >= 18:\n",
    "        print(\"You are old enough to drive\")\n",
    "    else:\n",
    "        remains = 18 - user\n",
    "        print(f\"You need {remains} more years to learn to drive.\")\n",
    "    \n",
    "except:\n",
    "    print(\"Please enter a valid numeric age\")\n",
    "    exit()"
   ]
  },
  {
   "cell_type": "code",
   "execution_count": 2,
   "metadata": {},
   "outputs": [
    {
     "name": "stdout",
     "output_type": "stream",
     "text": [
      "I am 11 years older than you \n"
     ]
    }
   ],
   "source": [
    "# Compare the values of my_age and your_age using if … else. Who is older (me or you)? Use input(“Enter your age: ”) to get the age as input. You can use a nested condition to print 'year' for 1 year difference in age, 'years' for bigger differences, and a custom text if my_age = your_age. Output:\n",
    "your_age = input('Enter your age: ')\n",
    "try:\n",
    "    your_age = int(your_age)\n",
    "    my_age = 23\n",
    "    if your_age > my_age:\n",
    "        remains = your_age - my_age\n",
    "        if remains == 1 :\n",
    "            print(\"You are a year older than me \")\n",
    "        else:\n",
    "            print(f\"You are {remains} years older than me \")\n",
    "    elif your_age < my_age:\n",
    "        remains = my_age - your_age\n",
    "        if remains == 1 :\n",
    "            print(\"I am a year older than you \")\n",
    "        else:\n",
    "            print(f\"I am {remains} years older than you \")\n",
    "    \n",
    "    else:\n",
    "        print(\"We have the same age\")\n",
    "    \n",
    "except:\n",
    "    print(\"Please enter a valid numeric age\")\n",
    "    exit()"
   ]
  },
  {
   "cell_type": "code",
   "execution_count": 3,
   "metadata": {},
   "outputs": [
    {
     "name": "stdout",
     "output_type": "stream",
     "text": [
      "7.0 is greater than 4.0\n"
     ]
    }
   ],
   "source": [
    "# Get two numbers from the user using input prompt. If a is greater than b return a is greater than b, if a is less b return a is smaller than b, else a is equal to b.\n",
    "a = float(input(\"Enter Number one: \"))\n",
    "b = float(input(\"Enter Number two: \"))\n",
    "try:\n",
    "    if a > b :\n",
    "        print(f\"{a} is greater than {b}\")\n",
    "\n",
    "    else:\n",
    "        print(f\"{b} is greater than {a}\")\n",
    "except:\n",
    "    print(\"Enter a valid numeric value\")\n",
    "    "
   ]
  },
  {
   "cell_type": "code",
   "execution_count": 10,
   "metadata": {},
   "outputs": [
    {
     "name": "stdout",
     "output_type": "stream",
     "text": [
      "Score: F\n"
     ]
    }
   ],
   "source": [
    "# Exercises: Level 2\n",
    "\n",
    "# Write a code which gives grade to students according to theirs scores:\n",
    "score = float(input(\"Enter Score: \"))\n",
    "if score >= 100:\n",
    "    print(\"Score: A\")\n",
    "elif score >= 70 and score <= 89:\n",
    "    print(\"Score: B\")\n",
    "elif score >= 60 and score <= 69:\n",
    "    print(\"Score: C\")\n",
    "elif score >= 50 and score <= 59:\n",
    "    print(\"Score: D\")\n",
    "else:\n",
    "    print(\"Score: F\")"
   ]
  },
  {
   "cell_type": "code",
   "execution_count": 13,
   "metadata": {},
   "outputs": [
    {
     "name": "stdout",
     "output_type": "stream",
     "text": [
      "Winter\n"
     ]
    }
   ],
   "source": [
    "# Check if the season is Autumn, Winter, Spring or Summer. If the user input is: September, October or November, the season is Autumn. December, January or February, the season is Winter. March, April or May, the season is Spring June, July or August, the season is Summer\n",
    "\n",
    "year = input(\"Enter Year: \")\n",
    "\n",
    "year = year.lower()\n",
    "Autumn = [\"september\", \"october\", \"november\"]\n",
    "Winter = [\"december\", \"january\", \"february\"]\n",
    "Spring = ['march', 'april', 'may']\n",
    "Summer = ['june', 'july', 'august']\n",
    "\n",
    "if year in Autumn:\n",
    "    print(\"Autumn\")\n",
    "elif year in Winter:\n",
    "    print(\"Winter\")\n",
    "elif year in Spring:\n",
    "    print(\"Spring\")\n",
    "elif year in Summer:\n",
    "    print(\"Summer\")\n",
    "else:\n",
    "    print(\"Not a Season\")"
   ]
  },
  {
   "cell_type": "code",
   "execution_count": 16,
   "metadata": {},
   "outputs": [
    {
     "name": "stdout",
     "output_type": "stream",
     "text": [
      "That fruit already exist in the list\n",
      "['banana', 'orange', 'mango', 'lemon']\n"
     ]
    }
   ],
   "source": [
    "# If a fruit doesn't exist in the list add the fruit to the list and print the modified list. If the fruit exists print('That fruit already exist in the list')\n",
    "fruits = ['banana', 'orange', 'mango', 'lemon']\n",
    "new = input(\"Enter Fruit: \")\n",
    "new = new.lower()\n",
    "if new not in fruits:\n",
    "    fruits.append(new)\n",
    "    print('fruit added')\n",
    "    print(fruits)\n",
    "else:\n",
    "    print('That fruit already exist in the list')\n",
    "    print(fruits)"
   ]
  },
  {
   "cell_type": "code",
   "execution_count": 34,
   "metadata": {},
   "outputs": [
    {
     "name": "stdout",
     "output_type": "stream",
     "text": [
      "Node\n",
      "Has Python skills\n",
      "\n",
      "He is a fullstack developer\n",
      "\n",
      "Asabeneh Yetayeh lives in Finland. He is married.\n"
     ]
    }
   ],
   "source": [
    "# Exercises: Level 3\n",
    "\n",
    "# Here we have a person dictionary. Feel free to modify it!\n",
    "person={\n",
    "    'first_name': 'Asabeneh',\n",
    "    'last_name': 'Yetayeh',\n",
    "    'age': 250,\n",
    "    'country': 'Finland',\n",
    "    'is_marred': True,\n",
    "    'skills': ['JavaScript', 'React', 'Node', 'MongoDB', 'Python'],\n",
    "    'address': {\n",
    "        'street': 'Space street',\n",
    "        'zipcode': '02210'\n",
    "    }\n",
    "}\n",
    "\n",
    "# Check if the person dictionary has skills key, if so print out the middle skill in the skills list.\n",
    "Skills = \"skills\" in person\n",
    "val = person['skills']\n",
    "if Skills == True:\n",
    "    print(val[2])\n",
    "    # Check if the person dictionary has skills key, if so check if the person has 'Python' skill and print out the result.\n",
    "    if 'Python' in val:\n",
    "        print(f\"Has Python skills\")\n",
    "        print()\n",
    "\n",
    "# If a person skills has only JavaScript and React, print('He is a front end developer'), if the person skills has Node, Python, MongoDB, print('He is a backend developer'), if the person skills has React, Node and MongoDB, Print('He is a fullstack developer'), else print('unknown title') - for more accurate results more conditions can be nested!\n",
    "if ('React' and 'Node' and 'MongoDB') in val:\n",
    "    print('He is a fullstack developer') \n",
    "          \n",
    "elif ('JavaScript' and 'React') in val:\n",
    "    print('He is a front end developer')\n",
    "    \n",
    "elif (\"Node\" and 'Python' and 'MongoDB') in val:\n",
    "    print('He is a backend developer')\n",
    "\n",
    "else:\n",
    "    print('unknown title')\n",
    "print()\n",
    "    \n",
    "# If the person is married and if he lives in Finland, print the information in the following format:\n",
    "if (person['is_marred'] == True) and  (person['country'] == \"Finland\"):\n",
    "    print(\"Asabeneh Yetayeh lives in Finland. He is married.\")   \n",
    "    "
   ]
  }
 ],
 "metadata": {
  "kernelspec": {
   "display_name": "datascience",
   "language": "python",
   "name": "python3"
  },
  "language_info": {
   "codemirror_mode": {
    "name": "ipython",
    "version": 3
   },
   "file_extension": ".py",
   "mimetype": "text/x-python",
   "name": "python",
   "nbconvert_exporter": "python",
   "pygments_lexer": "ipython3",
   "version": "3.8.18"
  }
 },
 "nbformat": 4,
 "nbformat_minor": 2
}
