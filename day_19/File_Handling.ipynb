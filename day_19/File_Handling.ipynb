{
 "cells": [
  {
   "cell_type": "markdown",
   "metadata": {},
   "source": [
    "# Day 19 - File Handling"
   ]
  },
  {
   "cell_type": "code",
   "execution_count": 3,
   "metadata": {},
   "outputs": [
    {
     "name": "stdout",
     "output_type": "stream",
     "text": [
      "File: data\\obama_speech.txt\n",
      "Number of lines: 66\n",
      "Number of words: 2400\n",
      "----------------------------------------\n",
      "File: data\\michelle_obama_speech.txt\n",
      "Number of lines: 83\n",
      "Number of words: 2204\n",
      "----------------------------------------\n",
      "File: data\\donald_speech.txt\n",
      "Number of lines: 48\n",
      "Number of words: 1259\n",
      "----------------------------------------\n",
      "File: data\\melina_trump_speech.txt\n",
      "Number of lines: 33\n",
      "Number of words: 1375\n",
      "----------------------------------------\n"
     ]
    }
   ],
   "source": [
    "# Write a function which count number of lines and number of words in a text. All the files are in the data the folder: a) Read obama_speech.txt file and count number of lines and words b) Read michelle_obama_speech.txt file and count number of lines and words c) Read donald_speech.txt file and count number of lines and words d) Read melina_trump_speech.txt file and count number of lines and words\n",
    "\n",
    "def count_lines_words(path):\n",
    "    try:\n",
    "        with open(path, 'r', encoding='utf-8') as f:\n",
    "            lines = f.readlines()\n",
    "            len_lines = len(lines)\n",
    "            words = ' '.join(lines).split()\n",
    "            len_words = len(words)\n",
    "            \n",
    "            print(f\"File: {path}\")\n",
    "            print(f\"Number of lines: {len_lines}\")\n",
    "            print(f\"Number of words: {len_words}\")\n",
    "            print(\"-\" * 40)\n",
    "    except FileNotFoundError:\n",
    "        print(f\"File '{path}' not found.\")\n",
    "\n",
    "paths = [\n",
    "    r'data\\obama_speech.txt',\n",
    "    r'data\\michelle_obama_speech.txt',\n",
    "    r'data\\donald_speech.txt',\n",
    "    r'data\\melina_trump_speech.txt'\n",
    "]\n",
    "\n",
    "for path in paths:\n",
    "    count_lines_words(path)\n"
   ]
  },
  {
   "cell_type": "code",
   "execution_count": 6,
   "metadata": {},
   "outputs": [
    {
     "name": "stdout",
     "output_type": "stream",
     "text": [
      "[('English', 91), ('French', 45), ('Arabic', 25), ('Spanish', 24), ('Portuguese', 9), ('Russian', 9), ('Dutch', 8), ('German', 7), ('Chinese', 5), ('Serbian', 4)]\n",
      "[('English', 91), ('French', 45), ('Arabic', 25)]\n"
     ]
    }
   ],
   "source": [
    "# Read the countries_data.json data file in data directory, create a function that finds the ten most spoken languages\n",
    "import json\n",
    "\n",
    "def most_spoken_languages(filename, top_n):\n",
    "    with open(filename, 'r', encoding='utf-8') as file:\n",
    "        data = json.load(file)\n",
    "\n",
    "    languages_count = {}\n",
    "    for country_info in data:\n",
    "        languages = country_info.get('languages', [])\n",
    "        for language in languages:\n",
    "            languages_count[language] = languages_count.get(language, 0) + 1\n",
    "\n",
    "    sorted_languages = sorted(languages_count.items(), key=lambda x: x[1], reverse=True)\n",
    "    return sorted_languages[:top_n]\n",
    "\n",
    "file_path = 'data\\countries_data.json'\n",
    "\n",
    "# Get the 10 most spoken languages\n",
    "print(most_spoken_languages(filename=file_path, top_n=10)) \n",
    "\n",
    "# Get the 3 most spoken languages\n",
    "print(most_spoken_languages(filename=file_path, top_n=3))"
   ]
  },
  {
   "cell_type": "code",
   "execution_count": 22,
   "metadata": {},
   "outputs": [
    {
     "ename": "TypeError",
     "evalue": "list indices must be integers or slices, not str",
     "output_type": "error",
     "traceback": [
      "\u001b[1;31m---------------------------------------------------------------------------\u001b[0m",
      "\u001b[1;31mTypeError\u001b[0m                                 Traceback (most recent call last)",
      "Cell \u001b[1;32mIn[22], line 12\u001b[0m\n\u001b[0;32m      8\u001b[0m     \u001b[38;5;28;01mreturn\u001b[39;00m \u001b[38;5;124mf\u001b[39m\u001b[38;5;124m\"\u001b[39m\u001b[38;5;124mCountry: \u001b[39m\u001b[38;5;132;01m{\u001b[39;00mtop_countries[\u001b[38;5;124m'\u001b[39m\u001b[38;5;124mname\u001b[39m\u001b[38;5;124m'\u001b[39m]\u001b[38;5;132;01m}\u001b[39;00m\u001b[38;5;124m, Population: \u001b[39m\u001b[38;5;132;01m{\u001b[39;00mtop_countries[\u001b[38;5;124m'\u001b[39m\u001b[38;5;124mpopulation\u001b[39m\u001b[38;5;124m'\u001b[39m]\u001b[38;5;132;01m}\u001b[39;00m\u001b[38;5;124m\"\u001b[39m\n\u001b[0;32m     10\u001b[0m filename \u001b[38;5;241m=\u001b[39m \u001b[38;5;124m'\u001b[39m\u001b[38;5;124mdata/countries_data.json\u001b[39m\u001b[38;5;124m'\u001b[39m\n\u001b[1;32m---> 12\u001b[0m result_10 \u001b[38;5;241m=\u001b[39m \u001b[43mmost_populated_countries\u001b[49m\u001b[43m(\u001b[49m\u001b[43mfilename\u001b[49m\u001b[43m,\u001b[49m\u001b[43m \u001b[49m\u001b[38;5;241;43m10\u001b[39;49m\u001b[43m)\u001b[49m\n\u001b[0;32m     13\u001b[0m result_3 \u001b[38;5;241m=\u001b[39m most_populated_countries(filename, \u001b[38;5;241m3\u001b[39m)\n\u001b[0;32m     15\u001b[0m \u001b[38;5;28mprint\u001b[39m(result_10)\n",
      "Cell \u001b[1;32mIn[22], line 8\u001b[0m, in \u001b[0;36mmost_populated_countries\u001b[1;34m(filename, n)\u001b[0m\n\u001b[0;32m      6\u001b[0m sorted_countries \u001b[38;5;241m=\u001b[39m \u001b[38;5;28msorted\u001b[39m(data, key\u001b[38;5;241m=\u001b[39m\u001b[38;5;28;01mlambda\u001b[39;00m x: x[\u001b[38;5;124m'\u001b[39m\u001b[38;5;124mpopulation\u001b[39m\u001b[38;5;124m'\u001b[39m], reverse\u001b[38;5;241m=\u001b[39m\u001b[38;5;28;01mTrue\u001b[39;00m)\n\u001b[0;32m      7\u001b[0m top_countries \u001b[38;5;241m=\u001b[39m sorted_countries[:n]\n\u001b[1;32m----> 8\u001b[0m \u001b[38;5;28;01mreturn\u001b[39;00m \u001b[38;5;124mf\u001b[39m\u001b[38;5;124m\"\u001b[39m\u001b[38;5;124mCountry: \u001b[39m\u001b[38;5;132;01m{\u001b[39;00m\u001b[43mtop_countries\u001b[49m\u001b[43m[\u001b[49m\u001b[38;5;124;43m'\u001b[39;49m\u001b[38;5;124;43mname\u001b[39;49m\u001b[38;5;124;43m'\u001b[39;49m\u001b[43m]\u001b[49m\u001b[38;5;132;01m}\u001b[39;00m\u001b[38;5;124m, Population: \u001b[39m\u001b[38;5;132;01m{\u001b[39;00mtop_countries[\u001b[38;5;124m'\u001b[39m\u001b[38;5;124mpopulation\u001b[39m\u001b[38;5;124m'\u001b[39m]\u001b[38;5;132;01m}\u001b[39;00m\u001b[38;5;124m\"\u001b[39m\n",
      "\u001b[1;31mTypeError\u001b[0m: list indices must be integers or slices, not str"
     ]
    }
   ],
   "source": [
    "# Read the countries_data.json data file in data directory, create a function that creates a list of the ten most populated countries\n",
    "\n",
    "def most_populated_countries(filename, n):\n",
    "    with open(filename, 'r') as file:\n",
    "        data = json.load(file)\n",
    "    sorted_countries = sorted(data, key=lambda x: x['population'], reverse=True)\n",
    "    top_countries = sorted_countries[:n]\n",
    "    return top_countries\n",
    "filename = 'data/countries_data.json'\n",
    "\n",
    "result_10 = most_populated_countries(filename, 10)\n",
    "result_3 = most_populated_countries(filename, 3)\n",
    "\n",
    "print(result_10)\n",
    "Print the results with each country on a separate line\n",
    "print(\"Top 10 most populated countries:\")\n",
    "for country in result_10:\n",
    "    print(country)\n",
    "\n",
    "print(\"\\nTop 3 most populated countries:\")\n",
    "for country in result_3:\n",
    "    print(country)"
   ]
  }
 ],
 "metadata": {
  "kernelspec": {
   "display_name": "base",
   "language": "python",
   "name": "python3"
  },
  "language_info": {
   "codemirror_mode": {
    "name": "ipython",
    "version": 3
   },
   "file_extension": ".py",
   "mimetype": "text/x-python",
   "name": "python",
   "nbconvert_exporter": "python",
   "pygments_lexer": "ipython3",
   "version": "3.11.5"
  }
 },
 "nbformat": 4,
 "nbformat_minor": 2
}
