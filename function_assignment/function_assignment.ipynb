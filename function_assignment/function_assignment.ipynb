{
 "cells": [
  {
   "cell_type": "markdown",
   "metadata": {},
   "source": [
    "# Funtion assignments"
   ]
  },
  {
   "cell_type": "markdown",
   "metadata": {},
   "source": [
    "Write a function called display_message() that prints one sentence telling everyone what you are learning about in this chapter. Call the function, and make sure the message displays correctly"
   ]
  },
  {
   "cell_type": "code",
   "execution_count": 1,
   "metadata": {},
   "outputs": [
    {
     "name": "stdout",
     "output_type": "stream",
     "text": [
      "I am learning funtions\n"
     ]
    }
   ],
   "source": [
    "def display_message():\n",
    "    print(\"I am learning funtions\")\n",
    "    \n",
    "display_message()"
   ]
  },
  {
   "cell_type": "markdown",
   "metadata": {},
   "source": [
    "Write a function called favorite_book() that accepts one parameter, title. The function should print a message, such as One of my favorite books is Alice in Wonderland. Call the function, making sure to include a book title as an argument in the function call."
   ]
  },
  {
   "cell_type": "code",
   "execution_count": 3,
   "metadata": {},
   "outputs": [
    {
     "name": "stdout",
     "output_type": "stream",
     "text": [
      "One of my favorite books is Alice in Wonderland\n",
      "One of my favorite books is The thirty-nine step\n"
     ]
    }
   ],
   "source": [
    "def favorite_book(title):\n",
    "    print(f\"One of my favorite books is {title}\")\n",
    "    \n",
    "favorite_book(\"Alice in Wonderland\")\n",
    "favorite_book(\"The thirty-nine step\")"
   ]
  },
  {
   "cell_type": "markdown",
   "metadata": {},
   "source": [
    "Write a function called make_shirt() that accepts a size and the \n",
    "text of a message that should be printed on the shirt. The function should print a \n",
    "sentence summarizing the size of the shirt and the message printed on it.\n",
    "Call the function once using positional arguments to make a shirt. Call the \n",
    "function a second time using keyword arguments."
   ]
  },
  {
   "cell_type": "code",
   "execution_count": 1,
   "metadata": {},
   "outputs": [
    {
     "name": "stdout",
     "output_type": "stream",
     "text": [
      "Shirt size: MEDIUM, Message: 'Hello World!'\n",
      "Shirt size: LARGE, Message: 'Python Rocks!'\n"
     ]
    }
   ],
   "source": [
    "def make_shirt(size, message):\n",
    "    print(f\"Shirt size: {size.upper()}, Message: '{message}'\")\n",
    "\n",
    "# Call the function using positional arguments\n",
    "make_shirt(\"medium\", \"Hello World!\")\n",
    "\n",
    "# Call the function using keyword arguments\n",
    "make_shirt(size=\"large\", message=\"Python Rocks!\")\n"
   ]
  },
  {
   "cell_type": "markdown",
   "metadata": {},
   "source": [
    "Large Shirts: Modify the make_shirt() function so that shirts are large \n",
    "by default with a message that reads I love Python. Make a large shirt and a \n",
    "medium shirt with the default message, and a shirt of any size with a different \n",
    "message"
   ]
  },
  {
   "cell_type": "code",
   "execution_count": 2,
   "metadata": {},
   "outputs": [
    {
     "name": "stdout",
     "output_type": "stream",
     "text": [
      "Shirt size: Large, Message: 'I love Python'\n",
      "Shirt size: Medium, Message: 'I love Python'\n",
      "Shirt size: Small, Message: 'Python is fun!'\n"
     ]
    }
   ],
   "source": [
    "def make_shirt(size=\"large\", message=\"I love Python\"):\n",
    "    print(f\"Shirt size: {size.capitalize()}, Message: '{message}'\")\n",
    "\n",
    "# Make a large shirt with default message\n",
    "make_shirt()\n",
    "\n",
    "# Make a medium shirt with default message\n",
    "make_shirt(size=\"medium\")\n",
    "\n",
    "# Make a custom-sized shirt with a different message\n",
    "make_shirt(size=\"small\", message=\"Python is fun!\")\n"
   ]
  },
  {
   "cell_type": "markdown",
   "metadata": {},
   "source": [
    "Write a function called describe_city() that accepts the name of \n",
    "a city and its country. The function should print a simple sentence, such as \n",
    "Reykjavik is in Iceland. Give the parameter for the country a default value. \n",
    "Call your function for three different cities, at least one of which is not in the \n",
    "default country."
   ]
  },
  {
   "cell_type": "code",
   "execution_count": 3,
   "metadata": {},
   "outputs": [
    {
     "name": "stdout",
     "output_type": "stream",
     "text": [
      "Reykjavik is in Iceland.\n",
      "Paris is in France.\n",
      "New york is in Default country.\n"
     ]
    }
   ],
   "source": [
    "def describe_city(city, country=\"default country\"):\n",
    "    print(f\"{city.capitalize()} is in {country.capitalize()}.\")\n",
    "\n",
    "# Call the function for three different cities\n",
    "describe_city(\"Reykjavik\", \"Iceland\")\n",
    "describe_city(\"Paris\", \"France\")\n",
    "describe_city(\"New York\")\n"
   ]
  },
  {
   "cell_type": "markdown",
   "metadata": {},
   "source": [
    "Write a function called city_country() that takes in the name \n",
    "of a city and its country. The function should return a string formatted like this:\n",
    "\"Santiago, Chile\"\n",
    "Call your function with at least three city-country pairs, and print the values \n",
    "that are returned."
   ]
  },
  {
   "cell_type": "code",
   "execution_count": 4,
   "metadata": {},
   "outputs": [
    {
     "name": "stdout",
     "output_type": "stream",
     "text": [
      "Santiago, Chile\n",
      "Tokyo, Japan\n",
      "New york, United states\n"
     ]
    }
   ],
   "source": [
    "def city_country(city, country):\n",
    "    return f\"{city.capitalize()}, {country.capitalize()}\"\n",
    "\n",
    "# Call the function with three city-country pairs\n",
    "result1 = city_country(\"santiago\", \"chile\")\n",
    "result2 = city_country(\"tokyo\", \"japan\")\n",
    "result3 = city_country(\"new york\", \"united states\")\n",
    "\n",
    "# Print the returned values\n",
    "print(result1)\n",
    "print(result2)\n",
    "print(result3)\n"
   ]
  },
  {
   "cell_type": "markdown",
   "metadata": {},
   "source": [
    "Write a function called make_album() that builds a dictionary \n",
    "describing a music album. The function should take in an artist name and an \n",
    "album title, and it should return a dictionary containing these two pieces of \n",
    "information. Use the function to make three dictionaries representing different \n",
    "albums. Print each return value to show that the dictionaries are storing the \n",
    "album information correctly.\n",
    "Use None to add an optional parameter to make_album() that allows you to \n",
    "store the number of songs on an album. If the calling line includes a value for \n",
    "the number of songs, add that value to the album’s dictionary. Make at least \n",
    "one new function call that includes the number of songs on an album."
   ]
  },
  {
   "cell_type": "code",
   "execution_count": 5,
   "metadata": {},
   "outputs": [
    {
     "name": "stdout",
     "output_type": "stream",
     "text": [
      "{'artist': 'Ed Sheeran', 'title': 'Divide'}\n",
      "{'artist': 'Beyoncé', 'title': 'Lemonade'}\n",
      "{'artist': 'Coldplay', 'title': 'A Head Full of Dreams', 'songs': 12}\n"
     ]
    }
   ],
   "source": [
    "def make_album(artist, title, songs=None):\n",
    "    album = {'artist': artist, 'title': title}\n",
    "    if songs:\n",
    "        album['songs'] = songs\n",
    "    return album\n",
    "\n",
    "# Make three dictionaries representing different albums\n",
    "album1 = make_album(\"Ed Sheeran\", \"Divide\")\n",
    "album2 = make_album(\"Beyoncé\", \"Lemonade\")\n",
    "album3 = make_album(\"Coldplay\", \"A Head Full of Dreams\", songs=12)\n",
    "\n",
    "# Print each return value\n",
    "print(album1)\n",
    "print(album2)\n",
    "print(album3)\n"
   ]
  },
  {
   "cell_type": "markdown",
   "metadata": {},
   "source": [
    "Start with your program from Exercise 8-7. Write a while\n",
    "loop that allows users to enter an album’s artist and title. Once you have that \n",
    "information, call make_album() with the user’s input and print the dictionary \n",
    "that’s created. Be sure to include a quit value in the while loop."
   ]
  },
  {
   "cell_type": "code",
   "execution_count": 6,
   "metadata": {},
   "outputs": [
    {
     "name": "stdout",
     "output_type": "stream",
     "text": [
      "{'artist': 'davido', 'title': 'timeless'}\n",
      "{'artist': 'mahir zain', 'title': 'awaken'}\n"
     ]
    }
   ],
   "source": [
    "def make_album(artist, title, songs=None):\n",
    "    album = {'artist': artist, 'title': title}\n",
    "    if songs:\n",
    "        album['songs'] = songs\n",
    "    return album\n",
    "\n",
    "while True:\n",
    "    artist_input = input(\"Enter the artist's name (or 'quit' to exit): \")\n",
    "    if artist_input.lower() == 'quit':\n",
    "        break\n",
    "\n",
    "    title_input = input(\"Enter the album title: \")\n",
    "\n",
    "    # Call make_album with user input and print the dictionary\n",
    "    album_info = make_album(artist_input, title_input)\n",
    "    print(album_info)\n"
   ]
  },
  {
   "cell_type": "markdown",
   "metadata": {},
   "source": [
    "Make a list containing a series of short text messages. Pass the \n",
    "list to a function called show_messages(), which prints each text message.\n",
    "\n"
   ]
  },
  {
   "cell_type": "code",
   "execution_count": 7,
   "metadata": {},
   "outputs": [
    {
     "name": "stdout",
     "output_type": "stream",
     "text": [
      "Hello, how are you?\n",
      "Don't forget to pick up groceries!\n",
      "Happy birthday! 🎉\n",
      "Learning Python is fun!\n"
     ]
    }
   ],
   "source": [
    "def show_messages(messages):\n",
    "    for message in messages:\n",
    "        print(message)\n",
    "\n",
    "# List of short text messages\n",
    "text_messages = [\n",
    "    \"Hello, how are you?\",\n",
    "    \"Don't forget to pick up groceries!\",\n",
    "    \"Happy birthday! 🎉\",\n",
    "    \"Learning Python is fun!\",\n",
    "]\n",
    "\n",
    "# Call the function to print each text message\n",
    "show_messages(text_messages)\n"
   ]
  },
  {
   "cell_type": "markdown",
   "metadata": {},
   "source": [
    "Sending Messages: Start with a copy of your program from Exercise 8-9. \n",
    "Write a function called send_messages() that prints each text message and \n",
    "moves each message to a new list called sent_messages as it’s printed. After \n",
    "calling the function, print both of your lists to make sure the messages were \n",
    "moved correctly."
   ]
  },
  {
   "cell_type": "code",
   "execution_count": 8,
   "metadata": {},
   "outputs": [
    {
     "name": "stdout",
     "output_type": "stream",
     "text": [
      "Sending message: Hello, how are you?\n",
      "Sending message: Don't forget to pick up groceries!\n",
      "Sending message: Happy birthday! 🎉\n",
      "Sending message: Learning Python is fun!\n",
      "Original messages:\n",
      "\n",
      "Sent messages:\n",
      "Hello, how are you?\n",
      "Don't forget to pick up groceries!\n",
      "Happy birthday! 🎉\n",
      "Learning Python is fun!\n"
     ]
    }
   ],
   "source": [
    "def show_messages(messages):\n",
    "    for message in messages:\n",
    "        print(message)\n",
    "\n",
    "def send_messages(messages, sent_messages):\n",
    "    while messages:\n",
    "        current_message = messages.pop(0)\n",
    "        print(f\"Sending message: {current_message}\")\n",
    "        sent_messages.append(current_message)\n",
    "\n",
    "# List of short text messages\n",
    "text_messages = [\n",
    "    \"Hello, how are you?\",\n",
    "    \"Don't forget to pick up groceries!\",\n",
    "    \"Happy birthday! 🎉\",\n",
    "    \"Learning Python is fun!\",\n",
    "]\n",
    "\n",
    "# Empty list to store sent messages\n",
    "sent_messages = []\n",
    "\n",
    "# Call the function to send and print messages\n",
    "send_messages(text_messages, sent_messages)\n",
    "\n",
    "# Print both lists to verify\n",
    "print(\"Original messages:\")\n",
    "show_messages(text_messages)\n",
    "\n",
    "print(\"\\nSent messages:\")\n",
    "show_messages(sent_messages)\n"
   ]
  },
  {
   "cell_type": "markdown",
   "metadata": {},
   "source": [
    "Archived Messages: Start with your work from Exercise 8-10. Call the func-\n",
    "tion send_messages() with a copy of the list of messages. After calling the func-\n",
    "tion, print both of your lists to show that the original list has retained its messages."
   ]
  },
  {
   "cell_type": "code",
   "execution_count": 9,
   "metadata": {},
   "outputs": [
    {
     "name": "stdout",
     "output_type": "stream",
     "text": [
      "Sending message: Hello, how are you?\n",
      "Sending message: Don't forget to pick up groceries!\n",
      "Sending message: Happy birthday! 🎉\n",
      "Sending message: Learning Python is fun!\n",
      "Original messages:\n",
      "Hello, how are you?\n",
      "Don't forget to pick up groceries!\n",
      "Happy birthday! 🎉\n",
      "Learning Python is fun!\n",
      "\n",
      "Sent messages:\n",
      "Hello, how are you?\n",
      "Don't forget to pick up groceries!\n",
      "Happy birthday! 🎉\n",
      "Learning Python is fun!\n"
     ]
    }
   ],
   "source": [
    "def show_messages(messages):\n",
    "    for message in messages:\n",
    "        print(message)\n",
    "\n",
    "def send_messages(messages, sent_messages):\n",
    "    while messages:\n",
    "        current_message = messages.pop(0)\n",
    "        print(f\"Sending message: {current_message}\")\n",
    "        sent_messages.append(current_message)\n",
    "\n",
    "# List of short text messages\n",
    "text_messages = [\n",
    "    \"Hello, how are you?\",\n",
    "    \"Don't forget to pick up groceries!\",\n",
    "    \"Happy birthday! 🎉\",\n",
    "    \"Learning Python is fun!\",\n",
    "]\n",
    "\n",
    "# Create a copy of the list to pass to send_messages\n",
    "messages_copy = text_messages.copy()\n",
    "\n",
    "# Empty list to store sent messages\n",
    "sent_messages = []\n",
    "\n",
    "# Call the function to send and print messages using the copy\n",
    "send_messages(messages_copy, sent_messages)\n",
    "\n",
    "# Print both lists to verify\n",
    "print(\"Original messages:\")\n",
    "show_messages(text_messages)\n",
    "\n",
    "print(\"\\nSent messages:\")\n",
    "show_messages(sent_messages)\n"
   ]
  },
  {
   "cell_type": "markdown",
   "metadata": {},
   "source": [
    "Sandwiches: Write a function that accepts a list of items a person wants \n",
    "on a sandwich. The function should have one parameter that collects as many \n",
    "items as the function call provides, and it should print a summary of the sand-\n",
    "wich that’s being ordered. Call the function three times, using a different num-\n",
    "ber of arguments each time."
   ]
  },
  {
   "cell_type": "code",
   "execution_count": 10,
   "metadata": {},
   "outputs": [
    {
     "name": "stdout",
     "output_type": "stream",
     "text": [
      "Making a sandwich with the following items:\n",
      "- Turkey\n",
      "- Cheese\n",
      "- Lettuce\n",
      "Making a sandwich with the following items:\n",
      "- Ham\n",
      "- Swiss\n",
      "Making a sandwich with the following items:\n",
      "- Peanut butter\n",
      "- Jelly\n",
      "- Bread\n"
     ]
    }
   ],
   "source": [
    "def make_sandwich(*items):\n",
    "    print(\"Making a sandwich with the following items:\")\n",
    "    for item in items:\n",
    "        print(f\"- {item.capitalize()}\")\n",
    "\n",
    "# Call the function three times with different numbers of arguments\n",
    "make_sandwich(\"turkey\", \"cheese\", \"lettuce\")\n",
    "make_sandwich(\"ham\", \"swiss\")\n",
    "make_sandwich(\"peanut butter\", \"jelly\", \"bread\")\n"
   ]
  },
  {
   "cell_type": "markdown",
   "metadata": {},
   "source": [
    "User Profile: Start with a copy of user_profile.py from page 148. Build a \n",
    "profile of yourself by calling build_profile(), using your first and last names \n",
    "and three other key-value pairs that describe you."
   ]
  },
  {
   "cell_type": "code",
   "execution_count": 11,
   "metadata": {},
   "outputs": [
    {
     "name": "stdout",
     "output_type": "stream",
     "text": [
      "{'first_name': 'YourFirstName', 'last_name': 'YourLastName', 'age': 25, 'occupation': 'Developer', 'location': 'City, Country'}\n"
     ]
    }
   ],
   "source": [
    "def build_profile(first_name, last_name, **additional_info):\n",
    "    profile = {'first_name': first_name, 'last_name': last_name}\n",
    "    profile.update(additional_info)\n",
    "    return profile\n",
    "\n",
    "# Create a profile for yourself\n",
    "my_profile = build_profile(\n",
    "    first_name=\"YourFirstName\",\n",
    "    last_name=\"YourLastName\",\n",
    "    age=25,\n",
    "    occupation=\"Developer\",\n",
    "    location=\"City, Country\"\n",
    ")\n",
    "\n",
    "print(my_profile)\n"
   ]
  },
  {
   "cell_type": "markdown",
   "metadata": {},
   "source": [
    "Cars: Write a function that stores information about a car in a diction-\n",
    "ary. The function should always receive a manufacturer and a model name. It \n",
    "should then accept an arbitrary number of keyword arguments. Call the func-\n",
    "tion with the required information and two other name-value pairs, such as a \n",
    "color or an optional feature. Your function should work for a call like this one:\n",
    "car = make_car('subaru', 'outback', color='blue', tow_package=True)\n",
    "Print the dictionary that’s returned to make sure all the information was \n",
    "stored correctly."
   ]
  },
  {
   "cell_type": "code",
   "execution_count": 12,
   "metadata": {},
   "outputs": [
    {
     "name": "stdout",
     "output_type": "stream",
     "text": [
      "{'manufacturer': 'subaru', 'model': 'outback', 'color': 'blue', 'tow_package': True}\n"
     ]
    }
   ],
   "source": [
    "def make_car(manufacturer, model, **car_info):\n",
    "    car = {'manufacturer': manufacturer, 'model': model}\n",
    "    car.update(car_info)\n",
    "    return car\n",
    "\n",
    "# Call the function with required and additional information\n",
    "car = make_car('subaru', 'outback', color='blue', tow_package=True)\n",
    "\n",
    "# Print the dictionary to verify the stored information\n",
    "print(car)\n"
   ]
  },
  {
   "cell_type": "markdown",
   "metadata": {},
   "source": [
    "Printing Models: Put the functions for the example printing_models.py in a \n",
    "separate file called printing_functions.py. Write an import statement at the top \n",
    "of printing_models.py, and modify the file to use the imported functions."
   ]
  },
  {
   "cell_type": "code",
   "execution_count": 32,
   "metadata": {},
   "outputs": [
    {
     "name": "stdout",
     "output_type": "stream",
     "text": [
      "Printing model: keychain\n",
      "Printing model: pendant\n",
      "Printing model: phone case\n",
      "\n",
      "The following models have been printed:\n",
      "keychain\n",
      "pendant\n",
      "phone case\n"
     ]
    }
   ],
   "source": [
    "from printing_functions import print_models, show_completed_models\n",
    "\n",
    "# Sample data\n",
    "unprinted_designs = ['phone case', 'pendant', 'keychain']\n",
    "completed_models = []\n",
    "\n",
    "# Using imported functions\n",
    "print_models(unprinted_designs, completed_models)\n",
    "show_completed_models(completed_models)\n",
    "\n",
    "\n",
    "'''In this example, the functions print_models and show_completed_models are defined in printing_functions.py, and they are imported into printing_models.py using the import statement. '''"
   ]
  },
  {
   "cell_type": "markdown",
   "metadata": {},
   "source": [
    "Imports: Using a program you wrote that has one function in it, store that \n",
    "function in a separate file. Import the function into your main program file, and \n",
    "call the function using each of these approaches:\n",
    "- import module_name\n",
    "- from module_name import function_name\n",
    "- from module_name import function_name as fn\n",
    "- import module_name as mn\n",
    "- from module_name import *"
   ]
  },
  {
   "cell_type": "code",
   "execution_count": 58,
   "metadata": {},
   "outputs": [
    {
     "name": "stdout",
     "output_type": "stream",
     "text": [
      "Hello from my_function!\n"
     ]
    }
   ],
   "source": [
    "import module\n",
    "\n",
    "module.my_function()\n"
   ]
  },
  {
   "cell_type": "code",
   "execution_count": 60,
   "metadata": {},
   "outputs": [
    {
     "name": "stdout",
     "output_type": "stream",
     "text": [
      "Hello from my_function!\n"
     ]
    }
   ],
   "source": [
    "from module import my_function\n",
    "\n",
    "my_function()\n"
   ]
  },
  {
   "cell_type": "code",
   "execution_count": 61,
   "metadata": {},
   "outputs": [
    {
     "name": "stdout",
     "output_type": "stream",
     "text": [
      "Hello from my_function!\n"
     ]
    }
   ],
   "source": [
    "from module import my_function as fn\n",
    "\n",
    "fn()\n"
   ]
  },
  {
   "cell_type": "code",
   "execution_count": 62,
   "metadata": {},
   "outputs": [
    {
     "name": "stdout",
     "output_type": "stream",
     "text": [
      "Hello from my_function!\n"
     ]
    }
   ],
   "source": [
    "import module as mn\n",
    "\n",
    "mn.my_function()\n"
   ]
  },
  {
   "cell_type": "code",
   "execution_count": 63,
   "metadata": {},
   "outputs": [
    {
     "name": "stdout",
     "output_type": "stream",
     "text": [
      "Hello from my_function!\n"
     ]
    }
   ],
   "source": [
    "from module import *\n",
    "\n",
    "my_function()\n"
   ]
  },
  {
   "cell_type": "markdown",
   "metadata": {},
   "source": [
    "Styling Functions: Choose any three programs you wrote for this chapter, \n",
    "and make sure they follow the styling guidelines described in this section."
   ]
  },
  {
   "cell_type": "code",
   "execution_count": 64,
   "metadata": {},
   "outputs": [
    {
     "name": "stdout",
     "output_type": "stream",
     "text": [
      "Reykjavik is in Iceland.\n",
      "Paris is in France.\n",
      "New york is in Default country.\n"
     ]
    }
   ],
   "source": [
    "def describe_city(city, country='default country'):\n",
    "    \"\"\"Prints a simple sentence describing the city and country.\"\"\"\n",
    "    print(f\"{city.capitalize()} is in {country.capitalize()}.\")\n",
    "\n",
    "# Example usage\n",
    "describe_city(\"Reykjavik\", \"Iceland\")\n",
    "describe_city(\"Paris\", \"France\")\n",
    "describe_city(\"New York\")\n"
   ]
  }
 ],
 "metadata": {
  "kernelspec": {
   "display_name": "arewads3.11",
   "language": "python",
   "name": "python3"
  },
  "language_info": {
   "codemirror_mode": {
    "name": "ipython",
    "version": 3
   },
   "file_extension": ".py",
   "mimetype": "text/x-python",
   "name": "python",
   "nbconvert_exporter": "python",
   "pygments_lexer": "ipython3",
   "version": "3.11.5"
  }
 },
 "nbformat": 4,
 "nbformat_minor": 2
}
