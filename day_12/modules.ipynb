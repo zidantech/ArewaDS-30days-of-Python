{
 "cells": [
  {
   "cell_type": "markdown",
   "metadata": {},
   "source": [
    "# Day12 Assignment"
   ]
  },
  {
   "cell_type": "markdown",
   "metadata": {},
   "source": [
    "## Excercise:Level1"
   ]
  },
  {
   "cell_type": "code",
   "execution_count": 22,
   "metadata": {},
   "outputs": [
    {
     "name": "stdout",
     "output_type": "stream",
     "text": [
      "Random user ID: wamjog\n"
     ]
    }
   ],
   "source": [
    "#function which generates a six digit/character random_user_id\n",
    "import random\n",
    "import string\n",
    "\n",
    "def generate_random_user_id():\n",
    "    characters = string.ascii_lowercase + string.digits\n",
    "    random_user_id = ''.join(random.choice(characters)\n",
    "for i in range(6))\n",
    "    return random_user_id\n",
    "random_user_id = generate_random_user_id()\n",
    "print(f\"Random user ID: {random_user_id}\")"
   ]
  },
  {
   "cell_type": "code",
   "execution_count": 25,
   "metadata": {},
   "outputs": [
    {
     "name": "stdout",
     "output_type": "stream",
     "text": [
      "Generated User IDs: ['cubrb', 'TfG6e', 'zNm4y', 'WleCM', 'kMjqT']\n"
     ]
    }
   ],
   "source": [
    "#Modify the previous task. Declare a function named user_id_gen_by_user. It doesn’t take any parameters but it takes two inputs using input(). One of the inputs is the number of characters and the second input is the number of IDs which are supposed to be generated.\n",
    "import random\n",
    "import string\n",
    "\n",
    "def user_id_gen_by_user():\n",
    "    char_count = int(input(\"Enter the number of characters for each ID: \"))\n",
    "    id_count = int(input(\"Enter the number of IDs to be generated: \"))\n",
    "\n",
    "    user_ids = []\n",
    "    for i in range(id_count):\n",
    "        user_id = ''.join(random.choices(string.ascii_letters + string.digits, k=char_count))\n",
    "        user_ids.append(user_id)\n",
    "    return user_ids\n",
    "\n",
    "generated_ids = user_id_gen_by_user()\n",
    "print(\"Generated User IDs:\", generated_ids)"
   ]
  },
  {
   "cell_type": "code",
   "execution_count": 26,
   "metadata": {},
   "outputs": [
    {
     "name": "stdout",
     "output_type": "stream",
     "text": [
      "Generated User IDs: ['bDNkcgzm495jcAtC', 'aM5hwX2t7lFAjJfh', 'qnl0EBpbMeEiGISP', 'RDZtVSBee1pogjAz', '1eyHrs6gSCnA0N2f']\n"
     ]
    }
   ],
   "source": [
    "#Modify the previous task. Declare a function named user_id_gen_by_user. It doesn’t take any parameters but it takes two inputs using input(). One of the inputs is the number of characters and the second input is the number of IDs which are supposed to be generated.\n",
    "import random\n",
    "import string\n",
    "\n",
    "def user_id_gen_by_user():\n",
    "    char_count = int(input(\"Enter the number of characters for each ID: \"))\n",
    "    id_count = int(input(\"Enter the number of IDs to be generated: \"))\n",
    "\n",
    "    user_ids = []\n",
    "    for i in range(id_count):\n",
    "        user_id = ''.join(random.choices(string.ascii_letters + string.digits, k=char_count))\n",
    "        user_ids.append(user_id)\n",
    "    return user_ids\n",
    "\n",
    "generated_ids = user_id_gen_by_user()\n",
    "print(\"Generated User IDs:\", generated_ids)"
   ]
  },
  {
   "cell_type": "code",
   "execution_count": 30,
   "metadata": {},
   "outputs": [
    {
     "name": "stdout",
     "output_type": "stream",
     "text": [
      "rgb: (124, 244, 255)\n"
     ]
    }
   ],
   "source": [
    "#a function named rgb_color_gen that will generate rgb colors (3 values ranging from 0 to 255 each).\n",
    "import random\n",
    "\n",
    "def rgb_color_gen():\n",
    "    red = random.randint(124, 125)\n",
    "    green = random.randint(243, 244)\n",
    "    blue = random.randint(255, 255)\n",
    "    return (red, green, blue)\n",
    "random_color = rgb_color_gen()\n",
    "print(f\"rgb: {random_color}\")"
   ]
  },
  {
   "cell_type": "markdown",
   "metadata": {},
   "source": []
  },
  {
   "cell_type": "markdown",
   "metadata": {},
   "source": [
    "## Excercise:Level2"
   ]
  },
  {
   "cell_type": "code",
   "execution_count": 27,
   "metadata": {},
   "outputs": [
    {
     "name": "stdout",
     "output_type": "stream",
     "text": [
      "Generated 5 random hexadecimal colors:\n",
      "\t- #992a1b\n",
      "\t- #104bc0\n",
      "\t- #c4832f\n",
      "\t- #bbb157\n",
      "\t- #4b43de\n"
     ]
    }
   ],
   "source": [
    "#Write a function list_of_hexa_colors which returns any number of hexadecimal colors in an array (six hexadecimal numbers written after #. Hexadecimal numeral system is made out of 16 symbols, 0-9 and first 6 letters of the alphabet, a-f. Check the task 6 for output examples).\n",
    "import random\n",
    "\n",
    "def list_of_hexa_colors(num_colors):\n",
    "    colors = []\n",
    "    for i in range(num_colors):\n",
    "        red = random.randint(0, 255)\n",
    "        green = random.randint(0, 255)\n",
    "        blue = random.randint(0, 255)\n",
    "        hex_color = f\"#{red:02x}{green:02x}{blue:02x}\"\n",
    "        colors.append(hex_color)\n",
    "    return colors\n",
    "colors = list_of_hexa_colors(5)\n",
    "print(f\"Generated 5 random hexadecimal colors:\")\n",
    "for color in colors:\n",
    "    print(f\"\\t- {color}\")"
   ]
  },
  {
   "cell_type": "markdown",
   "metadata": {},
   "source": [
    "## Excercise:Level2"
   ]
  },
  {
   "cell_type": "code",
   "execution_count": 31,
   "metadata": {},
   "outputs": [
    {
     "name": "stdout",
     "output_type": "stream",
     "text": [
      "Generated 5 random hexadecimal colors:\n",
      "\t- #f862fe\n",
      "\t- #84b827\n",
      "\t- #6b043c\n",
      "\t- #8aa2ad\n",
      "\t- #104835\n"
     ]
    }
   ],
   "source": [
    "#Write a function list_of_hexa_colors which returns any number of hexadecimal colors in an array (six hexadecimal numbers written after #. Hexadecimal numeral system is made out of 16 symbols, 0-9 and first 6 letters of the alphabet, a-f. Check the task 6 for output examples).\n",
    "import random\n",
    "\n",
    "def list_of_hexa_colors(num_colors):\n",
    "    colors = []\n",
    "    for i in range(num_colors):\n",
    "        red = random.randint(0, 255)\n",
    "        green = random.randint(0, 255)\n",
    "        blue = random.randint(0, 255)\n",
    "        hex_color = f\"#{red:02x}{green:02x}{blue:02x}\"\n",
    "        colors.append(hex_color)\n",
    "    return colors\n",
    "colors = list_of_hexa_colors(5)\n",
    "print(f\"Generated 5 random hexadecimal colors:\")\n",
    "for color in colors:\n",
    "    print(f\"\\t- {color}\")"
   ]
  },
  {
   "cell_type": "code",
   "execution_count": 32,
   "metadata": {},
   "outputs": [
    {
     "name": "stdout",
     "output_type": "stream",
     "text": [
      "Generated 5 random RGB colors:\n",
      "\t- [86, 80, 28]\n",
      "\t- [224, 148, 115]\n",
      "\t- [40, 215, 26]\n",
      "\t- [1, 54, 131]\n",
      "\t- [73, 181, 97]\n"
     ]
    }
   ],
   "source": [
    "#Write a function list_of_rgb_colors which returns any number of RGB colors in an array.\n",
    "import random\n",
    "\n",
    "def list_of_rgb_colors(num_colors):\n",
    "    colors = []\n",
    "    for i in range(num_colors):\n",
    "        red = random.randint(0, 255)\n",
    "        green = random.randint(0, 255)\n",
    "        blue = random.randint(0, 255)\n",
    "        colors.append([red, green, blue])\n",
    "    return colors\n",
    "colors = list_of_rgb_colors(5)\n",
    "print(f\"Generated 5 random RGB colors:\")\n",
    "for color in colors:\n",
    "    print(f\"\\t- {color}\")"
   ]
  },
  {
   "cell_type": "code",
   "execution_count": 33,
   "metadata": {},
   "outputs": [
    {
     "name": "stdout",
     "output_type": "stream",
     "text": [
      "Generated 2 random hexadecimal colors:\n",
      "\t- #1e02e5\n",
      "\t- #1f44c5\n",
      "Generated 2 random RGB colors:\n",
      "\t- (75, 219, 156)\n",
      "\t- (170, 253, 208)\n"
     ]
    }
   ],
   "source": [
    "#Write a function generate_colors which can generate any number of hexa or rgb colors.\n",
    "import random\n",
    "\n",
    "def generate_colors(num_colors, color_format=\"hexa\"):\n",
    "    colors = []\n",
    "    for _ in range(num_colors):\n",
    "        if color_format == \"hexa\":\n",
    "            red = random.randint(0, 255)\n",
    "            green = random.randint(0, 255)\n",
    "            blue = random.randint(0, 255)\n",
    "            hex_color = f\"#{red:02x}{green:02x}{blue:02x}\"\n",
    "            colors.append(hex_color)\n",
    "        elif color_format == \"rgb\":\n",
    "            red = random.randint(0, 255)\n",
    "            green = random.randint(0, 255)\n",
    "            blue = random.randint(0, 255)\n",
    "            colors.append((red, green, blue))\n",
    "        else:\n",
    "            raise ValueError(f\"Invalid color format: {color_format}\")\n",
    "    return colors\n",
    "colors = generate_colors(2, \"hexa\")\n",
    "print(f\"Generated 2 random hexadecimal colors:\")\n",
    "for color in colors:\n",
    "    print(f\"\\t- {color}\")\n",
    "\n",
    "colors = generate_colors(2, \"rgb\")\n",
    "print(f\"Generated 2 random RGB colors:\")\n",
    "for color in colors:\n",
    "    print(f\"\\t- {color}\")"
   ]
  },
  {
   "cell_type": "markdown",
   "metadata": {},
   "source": [
    "## Excercise: Level3"
   ]
  },
  {
   "cell_type": "code",
   "execution_count": 34,
   "metadata": {},
   "outputs": [
    {
     "name": "stdout",
     "output_type": "stream",
     "text": [
      "Original data: [2, 2, 1, 4, 5]\n",
      "Shuffled data: [4, 1, 2, 5, 2]\n"
     ]
    }
   ],
   "source": [
    "#Call function shuffle_list that takes and returns a shuffled list\n",
    "import random\n",
    "\n",
    "def shuffle_list(data):\n",
    "    shuffled_data = data[:]\n",
    "    for i in range(len(shuffled_data) - 1, 0, -1):\n",
    "        j = random.randint(0, i)\n",
    "        shuffled_data[i], shuffled_data[j] = shuffled_data[j], shuffled_data[i]\n",
    "    return shuffled_data\n",
    "data = [2, 2, 1, 4, 5]\n",
    "shuffled_data = shuffle_list(data)\n",
    "\n",
    "print(f\"Original data: {data}\")\n",
    "print(f\"Shuffled data: {shuffled_data}\")"
   ]
  },
  {
   "cell_type": "code",
   "execution_count": 35,
   "metadata": {},
   "outputs": [
    {
     "name": "stdout",
     "output_type": "stream",
     "text": [
      "Generated Random Numbers: [0, 8, 5, 3, 4, 1, 2]\n"
     ]
    }
   ],
   "source": [
    "#a function which returns an array of seven unique random numbers in a range of 0-9. \n",
    "import random\n",
    "\n",
    "def generate_unique_random_numbers():\n",
    "    unique_numbers = random.sample(range(10), 7)\n",
    "    return unique_numbers\n",
    "\n",
    "random_numbers = generate_unique_random_numbers()\n",
    "print(\"Generated Random Numbers:\", random_numbers)"
   ]
  }
 ],
 "metadata": {
  "kernelspec": {
   "display_name": ".venv",
   "language": "python",
   "name": "python3"
  },
  "language_info": {
   "codemirror_mode": {
    "name": "ipython",
    "version": 3
   },
   "file_extension": ".py",
   "mimetype": "text/x-python",
   "name": "python",
   "nbconvert_exporter": "python",
   "pygments_lexer": "ipython3",
   "version": "3.11.3"
  }
 },
 "nbformat": 4,
 "nbformat_minor": 2
}
