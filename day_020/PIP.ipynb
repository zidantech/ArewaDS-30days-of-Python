{
 "cells": [
  {
   "cell_type": "code",
   "execution_count": 1,
   "metadata": {},
   "outputs": [
    {
     "name": "stdout",
     "output_type": "stream",
     "text": [
      "[('lia', 23), ('a', 17), ('li', 14), ('meta', 13), ('div', 13), ('ul', 10), ('input', 9), ('link', 7), ('gutenberg', 5), ('of', 5)]\n"
     ]
    }
   ],
   "source": [
    "# Read this url and find the 10 most frequent words. romeo_and_juliet = 'http://www.gutenberg.org/files/1112/1112.txt'\n",
    "import requests\n",
    "from collections import Counter\n",
    "import re\n",
    "\n",
    "url = 'http://www.gutenberg.org/files/1112/1112.txt'\n",
    "\n",
    "response = requests.get(url)\n",
    "text = response.text\n",
    "cleaned_text = re.sub(r'[^\\w\\s]', '', text)  # Remove punctuation\n",
    "words = cleaned_text.lower().split() \n",
    "word_counts = Counter(words)\n",
    "top_10_words = word_counts.most_common(10)\n",
    "print(top_10_words)"
   ]
  },
  {
   "cell_type": "code",
   "execution_count": 2,
   "metadata": {},
   "outputs": [
    {
     "name": "stdout",
     "output_type": "stream",
     "text": [
      "Max of upper limit of cat's weights in metric units is: 11 \n",
      "Min of upper limit of cat's weights in metric units is: 4 \n",
      "Mean of upper limit of cat's weights in metric units is: 6.1940298507462686 \n",
      "Median of upper limit of cat's weights in metric units is: 6 \n",
      "Std of upper limit of cat's weights in metric units is: 1.416769757070632 \n",
      "{'Max': 11, 'Minimum': 4, 'Mean': 6.1940298507462686, 'Median': 6, 'std': 1.416769757070632}\n",
      "Upper limit of cat weights in metric units: {'Max': 11, 'Minimum': 4, 'Mean': 6.1940298507462686, 'Median': 6, 'std': 1.416769757070632}, lower limit of cat weights in metric units: {'Max': 5, 'Minimum': 2, 'Mean': 3.2238805970149254, 'Median': 3, 'std': 0.8845628182703051},upper limit of cat lifespan in years : {'Max': 20, 'Minimum': 12, 'Mean': 15.417910447761194, 'Median': 15, 'std': 1.6343774065406076},lower limits of cat lifespan in years: {'Max': 18, 'Minimum': 8, 'Mean': 12.074626865671641, 'Median': 12, 'std': 1.8283411328456127}\n",
      "Answer to first two sub questions of question 2: {'Upper limit stats of cat weights in metric units': {'Max': 11, 'Minimum': 4, 'Mean': 6.1940298507462686, 'Median': 6, 'std': 1.416769757070632}, 'Lower limit stats of cat weights in metric units': {'Max': 5, 'Minimum': 2, 'Mean': 3.2238805970149254, 'Median': 3, 'std': 0.8845628182703051}, 'Upper limit stat of cat lifespan in years': {'Max': 20, 'Minimum': 12, 'Mean': 15.417910447761194, 'Median': 15, 'std': 1.6343774065406076}, 'Lower limit stats of cat lifespan in years': {'Max': 18, 'Minimum': 8, 'Mean': 12.074626865671641, 'Median': 12, 'std': 1.8283411328456127}}\n",
      "defaultdict(<class 'int'>, {'Egypt': 3, 'Greece': 1, 'United States': 28, 'United Arab Emirates': 1, 'Australia': 1, 'France': 2, 'United Kingdom': 8, 'Burma': 2, 'Canada': 3, 'Cyprus': 1, 'Russia': 4, 'China': 1, 'Japan': 1, 'Thailand': 4, 'Isle of Man': 1, 'Norway': 1, 'Iran (Persia)': 1, 'Singapore': 1, 'Somalia': 1, 'Turkey': 2})\n"
     ]
    }
   ],
   "source": [
    "# Read the cats API and cats_api = 'https://api.thecatapi.com/v1/breeds' and find :\n",
    "    # the min, max, mean, median, standard deviation of cats' weight in metric units.\n",
    "    # the min, max, mean, median, standard deviation of cats' lifespan in years.\n",
    "    # Create a frequency table of country and breed of cats\n",
    "    \n",
    "cats_api = 'https://api.thecatapi.com/v1/breeds'\n",
    "\n",
    "response = requests.get(cats_api)\n",
    "\n",
    "if response.status_code == 200:\n",
    "    cat_breeds = response.json()\n",
    "else:\n",
    "    print(\"Failed to retrieve information from API\")\n",
    "\n",
    "'''getting the list of the weights of all the cats in metric units, \n",
    "has upper and lower limits'''\n",
    "cat_weight_metric = []\n",
    "for i in range(len(cat_breeds)):\n",
    "  cat_weight_metric.append(cat_breeds[i]['weight']['metric'])\n",
    "cat_weight_metric[:5]\n",
    "\n",
    "# Doing same for lifespan\n",
    "cat_weight_lifespan = []\n",
    "for i in range(len(cat_breeds)):\n",
    "  cat_weight_lifespan.append(cat_breeds[i]['life_span'])\n",
    "cat_weight_lifespan[:5]\n",
    "\n",
    "# getting a function to make them integers and get two lists of upper and lower limits\n",
    "def convert_to_numbers(string):\n",
    "    start, end = map(int, string.split(\" - \"))\n",
    "    return start, end\n",
    "\n",
    "# converting the weights to numbers using the function to get upper and lower weight limits for each, two lists:\n",
    "cat_weight_metric_number = list(map(convert_to_numbers,cat_weight_metric))\n",
    "lower_cat_weight_metric,upper_cat_weight_metric = [i[0] for i in cat_weight_metric_number],[i[1]for i in cat_weight_metric_number]\n",
    "\n",
    "# same for lifespans in years\n",
    "cat_lifespan_number = list(map(convert_to_numbers,cat_weight_lifespan))\n",
    "lower_cat_lifespan,upper_cat_lifespan = [i[0] for i in cat_lifespan_number],[i[1]for i in cat_lifespan_number]\n",
    "\n",
    "# Using statistics module to get the descriptive statistics (mean,median and std) \n",
    "# for the lower and upper limits, can use the min and max list methods\n",
    "import statistics as stats\n",
    "print(f'Max of upper limit of cat\\'s weights in metric units is: {max(upper_cat_weight_metric)} ')\n",
    "print(f'Min of upper limit of cat\\'s weights in metric units is: {min(upper_cat_weight_metric)} ')\n",
    "print(f'Mean of upper limit of cat\\'s weights in metric units is: {stats.mean(upper_cat_weight_metric)} ')\n",
    "print(f'Median of upper limit of cat\\'s weights in metric units is: {stats.median(upper_cat_weight_metric)} ')\n",
    "print(f'Std of upper limit of cat\\'s weights in metric units is: {stats.stdev(upper_cat_weight_metric)} ')\n",
    "\n",
    "# Will use the function below to get the parameters\n",
    "def stats_params(list):\n",
    "    '''\n",
    "    Takes a list and returns a dictionary of certain statistics parameters of the list\n",
    "    '''\n",
    "    import statistics as stats\n",
    "    stat = {}\n",
    "    stat['Max'] = max(list)\n",
    "    stat['Minimum'] = min(list)\n",
    "    stat['Mean'] = stats.mean(list)\n",
    "    stat['Median'] = stats.median(list)\n",
    "    stat['std'] = stats.stdev(list)\n",
    "    return stat\n",
    "print(stats_params(upper_cat_weight_metric))\n",
    "\n",
    "\n",
    "\n",
    "print(f'Upper limit of cat weights in metric units: {stats_params(upper_cat_weight_metric)}, lower limit of cat weights in metric units: {stats_params(lower_cat_weight_metric)},upper limit of cat lifespan in years : {stats_params(upper_cat_lifespan)},lower limits of cat lifespan in years: {stats_params(lower_cat_lifespan)}')\n",
    "answer_dict = {}\n",
    "answer_dict['Upper limit stats of cat weights in metric units'] = stats_params(upper_cat_weight_metric)\n",
    "answer_dict['Lower limit stats of cat weights in metric units'] = stats_params(lower_cat_weight_metric)\n",
    "answer_dict['Upper limit stat of cat lifespan in years'] = stats_params(upper_cat_lifespan)\n",
    "answer_dict['Lower limit stats of cat lifespan in years'] = stats_params(lower_cat_lifespan)\n",
    "print(f'Answer to first two sub questions of question 2: {answer_dict}')\n",
    "\n",
    "\n",
    "# Third sub-question\n",
    "from collections import defaultdict\n",
    "# Getting the frequency table \n",
    "frequency_table = defaultdict(int)\n",
    "breed_info = {}\n",
    "for breed in cat_breeds:\n",
    "    breed_info[breed['name']] = breed['origin']\n",
    "for breed in breed_info.values():\n",
    "    frequency_table[breed] += 1\n",
    "\n",
    "print(frequency_table)"
   ]
  },
  {
   "cell_type": "code",
   "execution_count": null,
   "metadata": {},
   "outputs": [],
   "source": [
    "# Read the countries API and find\n",
    "    # the 10 largest countries\n",
    "    # the 10 most spoken languages\n",
    "    # the total number of languages in the countries API\n",
    "    \n",
    "    \n",
    "# Can't reach URL (https://restcountries.eu/rest/v2/all)\n",
    "# Webpage is not working!\n"
   ]
  },
  {
   "cell_type": "code",
   "execution_count": 12,
   "metadata": {},
   "outputs": [
    {
     "name": "stdout",
     "output_type": "stream",
     "text": [
      "Table not found on the page. Check the page structure or URL.\n"
     ]
    }
   ],
   "source": [
    "import requests\n",
    "from bs4 import BeautifulSoup\n",
    "\n",
    "url = 'https://archive.ics.uci.edu/ml/datasets.php'\n",
    "\n",
    "# Send a GET request to the URL and retrieve the HTML content\n",
    "response = requests.get(url)\n",
    "html_content = response.content\n",
    "\n",
    "# Parse the HTML content using BeautifulSoup4\n",
    "soup = BeautifulSoup(html_content, 'html.parser')\n",
    "\n",
    "# Find the table that contains the list of data sets\n",
    "table = soup.find('table', {'border': '1'})\n",
    "\n",
    "# Check if the table is found\n",
    "if table:\n",
    "    # Extract the name of each data set from the table rows\n",
    "    rows = table.find_all('tr')[1:]\n",
    "    for row in rows:\n",
    "        cells = row.find_all('td')\n",
    "        if len(cells) > 0:  # Ensure that there are cells in the row\n",
    "            name = cells[0].text.strip()\n",
    "            # Print the names of all the datasets in the table\n",
    "            print(name)\n",
    "else:\n",
    "    print(\"Table not found on the page. Check the page structure or URL.\")\n"
   ]
  }
 ],
 "metadata": {
  "kernelspec": {
   "display_name": "arewads3.11",
   "language": "python",
   "name": "python3"
  },
  "language_info": {
   "codemirror_mode": {
    "name": "ipython",
    "version": 3
   },
   "file_extension": ".py",
   "mimetype": "text/x-python",
   "name": "python",
   "nbconvert_exporter": "python",
   "pygments_lexer": "ipython3",
   "version": "3.11.5"
  }
 },
 "nbformat": 4,
 "nbformat_minor": 2
}
